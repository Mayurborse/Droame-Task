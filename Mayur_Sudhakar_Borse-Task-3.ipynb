{
 "cells": [
  {
   "cell_type": "code",
   "execution_count": 3,
   "id": "04f0112f",
   "metadata": {},
   "outputs": [],
   "source": [
    "import time"
   ]
  },
  {
   "cell_type": "code",
   "execution_count": 4,
   "id": "e7722e93",
   "metadata": {},
   "outputs": [],
   "source": [
    "class Drone:\n",
    "    def __init__(self, id, x, y, speed, time):\n",
    "        self.id = id\n",
    "        self.x = x\n",
    "        self.y = y\n",
    "        self.speed = speed\n",
    "        self.time = time"
   ]
  },
  {
   "cell_type": "code",
   "execution_count": 5,
   "id": "6843441c",
   "metadata": {},
   "outputs": [],
   "source": [
    "class Movement:\n",
    "    def __init__(self, drone_id, dx, dy):\n",
    "        self.drone_id = drone_id\n",
    "        self.dx = dx\n",
    "        self.dy = dy"
   ]
  },
  {
   "cell_type": "code",
   "execution_count": 6,
   "id": "9d78cc60",
   "metadata": {},
   "outputs": [],
   "source": [
    "def distance(x1, y1, x2, y2):\n",
    "    return ((x2-x1)**2 + (y2-y1)**2)**0.5"
   ]
  },
  {
   "cell_type": "code",
   "execution_count": 7,
   "id": "2220b95a",
   "metadata": {},
   "outputs": [],
   "source": [
    "def get_paths_helper(drones, path, paths):\n",
    "    if len(path) == len(drones):\n",
    "        paths.append(path.copy())\n",
    "        return\n",
    "    last_x = path[-1][1]\n",
    "    last_y = path[-1][2]\n",
    "    for i in range(len(drones)):\n",
    "        if i not in [p[0] for p in path]:\n",
    "            drone = drones[i]\n",
    "            d = distance(last_x, last_y, drone.x, drone.y)\n",
    "            if d/drone.speed <= drone.time:\n",
    "                path.append([i, drone.x, drone.y])\n",
    "                get_paths_helper(drones, path, paths)\n",
    "                path.pop()"
   ]
  },
  {
   "cell_type": "code",
   "execution_count": 8,
   "id": "3c743bc2",
   "metadata": {},
   "outputs": [],
   "source": [
    "def get_paths(drones):\n",
    "    paths = []\n",
    "    for i in range(len(drones)):\n",
    "        get_paths_helper(drones, [[i, drones[i].x, drones[i].y]], paths)\n",
    "    return paths"
   ]
  },
  {
   "cell_type": "code",
   "execution_count": 9,
   "id": "ab0c3e77",
   "metadata": {},
   "outputs": [],
   "source": [
    "def simulate(drones, paths):\n",
    "    for i in range(len(paths[0])):\n",
    "        locations = {}\n",
    "        for drone in drones:\n",
    "            locations[drone.id] = (drone.x, drone.y)\n",
    "        for j in range(len(drones)):\n",
    "            drone = drones[j]\n",
    "            move = paths[j][i]\n",
    "            drone.x = move.dx\n",
    "            drone.y = move.dy\n",
    "            print(f\"Drone {drone.id}: {locations[drone.id]} -> ({drone.x}, {drone.y})\")\n",
    "        for j in range(len(drones)):\n",
    "            drone1 = drones[j]\n",
    "            for k in range(j+1, len(drones)):\n",
    "                drone2 = drones[k]\n",
    "                if drone1.x == drone2.x and drone1.y == drone2.y:\n",
    "                    print(f\"Collision between drone {drone1.id} and drone {drone2.id}\")\n",
    "        time.sleep(1)"
   ]
  },
  {
   "cell_type": "code",
   "execution_count": 10,
   "id": "3b6c138b",
   "metadata": {},
   "outputs": [],
   "source": [
    "if __name__ == '__main__':\n",
    "    # define the list of drones\n",
    "    drones = [\n",
    "    Drone(1, 1, 18, 2, 30),\n",
    "    Drone(2, 5, 22, 1.5, 20),\n",
    "    Drone(3, 10, 10, 1, 15)\n",
    "]\n",
    "\n",
    "    # generate all possible paths for the drones\n",
    "    paths = get_paths(drones)"
   ]
  },
  {
   "cell_type": "code",
   "execution_count": 11,
   "id": "afe815e3",
   "metadata": {},
   "outputs": [
    {
     "name": "stdout",
     "output_type": "stream",
     "text": [
      "Drone 0:\n",
      "(1, 18)\n",
      "(5, 22)\n",
      "(10, 10)\n",
      "Drone 1:\n",
      "(1, 18)\n",
      "(10, 10)\n",
      "(5, 22)\n",
      "Drone 2:\n",
      "(5, 22)\n",
      "(1, 18)\n",
      "(10, 10)\n",
      "Drone 3:\n",
      "(5, 22)\n",
      "(10, 10)\n",
      "(1, 18)\n",
      "Drone 4:\n",
      "(10, 10)\n",
      "(1, 18)\n",
      "(5, 22)\n",
      "Drone 5:\n",
      "(10, 10)\n",
      "(5, 22)\n",
      "(1, 18)\n"
     ]
    }
   ],
   "source": [
    "# simulate the movement of the drones\n",
    "for i in range(len(paths)):\n",
    "    print(f\"Drone {i}:\")\n",
    "    for point in paths[i]:\n",
    "        print(f\"({point[1]}, {point[2]})\")"
   ]
  },
  {
   "cell_type": "code",
   "execution_count": 12,
   "id": "ff24eaaf",
   "metadata": {},
   "outputs": [
    {
     "data": {
      "image/png": "[encoded data removed]",
      "text/plain": [
       "<Figure size 432x288 with 1 Axes>"
      ]
     },
     "metadata": {
      "needs_background": "light"
     },
     "output_type": "display_data"
    }
   ],
   "source": [
    "\n",
    "\n",
    "import matplotlib.pyplot as plt\n",
    "\n",
    "# create a figure and axis object\n",
    "fig, ax = plt.subplots()\n",
    "\n",
    "# iterate through each drone's path and plot it on the axis\n",
    "for i in range(len(paths)):\n",
    "    drone_path = paths[i]\n",
    "    x = [p[1] for p in drone_path]\n",
    "    y = [p[2] for p in drone_path]\n",
    "    ax.plot(x, y, label=f\"Drone {i}\")\n",
    "\n",
    "# set the axis labels and title\n",
    "ax.set_xlabel(\"X\")\n",
    "ax.set_ylabel(\"Y\")\n",
    "ax.set_title(\"Drone Paths\")\n",
    "\n",
    "# add a legend to the plot\n",
    "ax.legend()\n",
    "\n",
    "# show the plot\n",
    "plt.show()\n"
   ]
  },
  {
   "cell_type": "code",
   "execution_count": null,
   "id": "29c67d97",
   "metadata": {},
   "outputs": [],
   "source": []
  }
 ],
 "metadata": {
  "kernelspec": {
   "display_name": "Python 3 (ipykernel)",
   "language": "python",
   "name": "python3"
  },
  "language_info": {
   "codemirror_mode": {
    "name": "ipython",
    "version": 3
   },
   "file_extension": ".py",
   "mimetype": "text/x-python",
   "name": "python",
   "nbconvert_exporter": "python",
   "pygments_lexer": "ipython3",
   "version": "3.9.12"
  }
 },
 "nbformat": 4,
 "nbformat_minor": 5
}
